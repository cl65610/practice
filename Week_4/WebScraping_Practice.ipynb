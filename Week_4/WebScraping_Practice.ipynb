{
 "cells": [
  {
   "cell_type": "code",
   "execution_count": 37,
   "metadata": {
    "collapsed": false
   },
   "outputs": [],
   "source": [
    "import numpy as np\n",
    "import pandas as pd\n",
    "threes_and_fives = sum([x for x in range(1000) if x%3 == 0 or x%5 == 0])"
   ]
  },
  {
   "cell_type": "code",
   "execution_count": 38,
   "metadata": {
    "collapsed": false
   },
   "outputs": [
    {
     "data": {
      "text/plain": [
       "233168"
      ]
     },
     "execution_count": 38,
     "metadata": {},
     "output_type": "execute_result"
    }
   ],
   "source": [
    "threes_and_fives"
   ]
  },
  {
   "cell_type": "code",
   "execution_count": 39,
   "metadata": {
    "collapsed": false
   },
   "outputs": [],
   "source": [
    "import urllib\n",
    "import json"
   ]
  },
  {
   "cell_type": "code",
   "execution_count": 52,
   "metadata": {
    "collapsed": false
   },
   "outputs": [],
   "source": [
    "stock = urllib.urlopen('http://dev.markitondemand.com/MODApis/Api/v2/Lookup/json?input=go')"
   ]
  },
  {
   "cell_type": "code",
   "execution_count": 53,
   "metadata": {
    "collapsed": false
   },
   "outputs": [],
   "source": [
    "parsed_stock = json.loads(stock.read())"
   ]
  },
  {
   "cell_type": "code",
   "execution_count": 54,
   "metadata": {
    "collapsed": false
   },
   "outputs": [
    {
     "data": {
      "text/plain": [
       "[{u'Exchange': u'NASDAQ',\n",
       "  u'Name': u'Gladstone Commercial Corp',\n",
       "  u'Symbol': u'GOOD'},\n",
       " {u'Exchange': u'NASDAQ', u'Name': u'Alphabet Inc', u'Symbol': u'GOOGL'},\n",
       " {u'Exchange': u'NASDAQ',\n",
       "  u'Name': u'Golden Ocean Group Ltd',\n",
       "  u'Symbol': u'GOGL'},\n",
       " {u'Exchange': u'NYSE',\n",
       "  u'Name': u'Guggenheim Strategic Opportunities Fund',\n",
       "  u'Symbol': u'GOF'},\n",
       " {u'Exchange': u'NYSE',\n",
       "  u'Name': u'Government Properties Income Trust',\n",
       "  u'Symbol': u'GOV'},\n",
       " {u'Exchange': u'NYSE',\n",
       "  u'Name': u'ASA Gold and Precious Metals Limited',\n",
       "  u'Symbol': u'ASA'},\n",
       " {u'Exchange': u'NASDAQ', u'Name': u'Golar LNG Ltd', u'Symbol': u'GLNG'},\n",
       " {u'Exchange': u'NASDAQ', u'Name': u'Royal Gold Inc', u'Symbol': u'RGLD'},\n",
       " {u'Exchange': u'NYSE',\n",
       "  u'Name': u'GAMCO Natural Resources Gold & Income Trust',\n",
       "  u'Symbol': u'GNT'},\n",
       " {u'Exchange': u'NASDAQ',\n",
       "  u'Name': u'Golar LNG Partners LP',\n",
       "  u'Symbol': u'GMLP'}]"
      ]
     },
     "execution_count": 54,
     "metadata": {},
     "output_type": "execute_result"
    }
   ],
   "source": [
    "parsed_stock"
   ]
  },
  {
   "cell_type": "code",
   "execution_count": 56,
   "metadata": {
    "collapsed": false
   },
   "outputs": [
    {
     "name": "stdout",
     "output_type": "stream",
     "text": [
      "Gladstone Commercial Corp\n",
      "GOOD\n",
      "Alphabet Inc\n",
      "GOOGL\n",
      "Golden Ocean Group Ltd\n",
      "GOGL\n",
      "Guggenheim Strategic Opportunities Fund\n",
      "GOF\n",
      "Government Properties Income Trust\n",
      "GOV\n",
      "ASA Gold and Precious Metals Limited\n",
      "ASA\n",
      "Golar LNG Ltd\n",
      "GLNG\n",
      "Royal Gold Inc\n",
      "RGLD\n",
      "GAMCO Natural Resources Gold & Income Trust\n",
      "GNT\n",
      "Golar LNG Partners LP\n",
      "GMLP\n"
     ]
    }
   ],
   "source": [
    "for stock in parsed_stock:\n",
    "    print stock['Name']\n",
    "    print stock['Symbol']"
   ]
  },
  {
   "cell_type": "markdown",
   "metadata": {},
   "source": [
    "### Web Scraping"
   ]
  },
  {
   "cell_type": "code",
   "execution_count": 57,
   "metadata": {
    "collapsed": false
   },
   "outputs": [
    {
     "name": "stdout",
     "output_type": "stream",
     "text": [
      "<html>\n",
      "<head></head>\n",
      "<body>\n",
      "<h1>Some images to download:</h1>\n",
      "<img src='python.gif'/><br />\n",
      "<img src='terminal.png' />\n",
      "<hr />\n",
      "\n",
      "<h1>Email addresses to extract:</h1>\n",
      "jesseshawl@gmail.com<br />\n",
      "sudojesse@gmail.com<br />\n",
      "\n",
      "<hr />\n",
      "\n",
      "<h1>Login Form:</h1>\n",
      "Login here:<br />\n",
      "User: user<br />\n",
      "Pass: pass\n",
      "<form method=\"POST\" action=\"login.php\">\n",
      " User: <input type=\"text\" name=\"username\" /><br />\n",
      " Pass: <input type=\"password\" name=\"password\" /><br />\n",
      " <input type=\"submit\" />\n",
      "</form>\n",
      "\n",
      "<h1>Memorable Quotes</h1>\n",
      "<ul>\n",
      "\t<li></li>\n",
      "</ul>\n",
      "\n",
      "</body>\n",
      "</html>\n"
     ]
    }
   ],
   "source": [
    "import urllib\n",
    "html = urllib.urlopen(\"http://jshawl.com/python-playground\").read()\n",
    "print html"
   ]
  },
  {
   "cell_type": "code",
   "execution_count": 58,
   "metadata": {
    "collapsed": false
   },
   "outputs": [
    {
     "data": {
      "text/plain": [
       "('python.gif', <httplib.HTTPMessage instance at 0x1114c5b00>)"
      ]
     },
     "execution_count": 58,
     "metadata": {},
     "output_type": "execute_result"
    }
   ],
   "source": [
    "# urlretrieve is a good way to get any sort of file and store it locally. The first argument is the location, and\n",
    "# the second is what to save the gif as. Makes a local copy\n",
    "\n",
    "urllib.urlretrieve(\"http://jshawl.com/python-playground/python.gif\",\"python.gif\")\n"
   ]
  },
  {
   "cell_type": "markdown",
   "metadata": {},
   "source": [
    "#### Extracting Email addresses"
   ]
  },
  {
   "cell_type": "code",
   "execution_count": 61,
   "metadata": {
    "collapsed": false
   },
   "outputs": [
    {
     "name": "stdout",
     "output_type": "stream",
     "text": [
      "True\n"
     ]
    }
   ],
   "source": [
    "# re is \"regular expression\" module. it allows us to look for patterns in text.\n",
    "# Using regular expressions to parse HTML is not ideal. It's unreliable and doesn't\n",
    "# take advantage of html's structure.\n",
    "import re\n",
    "\n",
    "html = urllib.urlopen('http://jshawl.com/python-playground').read()\n",
    "print '@' in html"
   ]
  },
  {
   "cell_type": "code",
   "execution_count": 64,
   "metadata": {
    "collapsed": false
   },
   "outputs": [
    {
     "name": "stdout",
     "output_type": "stream",
     "text": [
      "jesseshawl@gmail.com\n",
      "sudojesse@gmail.com\n"
     ]
    }
   ],
   "source": [
    "for email in re.findall('[\\w]+@[\\w.]+', html):\n",
    "    print email"
   ]
  },
  {
   "cell_type": "markdown",
   "metadata": {},
   "source": [
    "#### Logging Into a Website"
   ]
  },
  {
   "cell_type": "code",
   "execution_count": 66,
   "metadata": {
    "collapsed": true
   },
   "outputs": [],
   "source": [
    "from cookielib import CookieJar # store cookies and logged-in info\n",
    "import urllib2\n",
    "\n",
    "cj = CookieJar() #instantiates the method\n",
    "opener = urllib2.build_opener(urllib2.HTTPCookieProcessor(cj)) #stores session information"
   ]
  },
  {
   "cell_type": "code",
   "execution_count": 67,
   "metadata": {
    "collapsed": true
   },
   "outputs": [],
   "source": [
    "form_values = {'username':'user',\n",
    "              'password':'pass'} # The values in these dictionary keys are the actual inputs for the particular website\n",
    "data = urllib.urlencode(form_values) #Converts the python objects into somethin that a website can read.\n",
    "response = opener.open('http://jshawl.com/python-playground/login.php', data)"
   ]
  },
  {
   "cell_type": "code",
   "execution_count": 68,
   "metadata": {
    "collapsed": false
   },
   "outputs": [
    {
     "name": "stdout",
     "output_type": "stream",
     "text": [
      "you are logged in. You can also check out <a href='protected2.php'>another protected page!</a>\n"
     ]
    }
   ],
   "source": [
    "print response.read()"
   ]
  },
  {
   "cell_type": "markdown",
   "metadata": {},
   "source": [
    "#### BeautifulSoup"
   ]
  },
  {
   "cell_type": "code",
   "execution_count": 9,
   "metadata": {
    "collapsed": false
   },
   "outputs": [
    {
     "name": "stdout",
     "output_type": "stream",
     "text": [
      "1. You can do anything, but not everything.\n",
      "—David Allen\n",
      "++++++++\n",
      "2. Perfection is achieved, not when there is nothing more to add, but when there is nothing left to take away.\n",
      "—Antoine de Saint-Exupéry\n",
      "++++++++\n",
      "3. The richest man is not he who has the most, but he who needs the least.\n",
      "—Unknown Author\n",
      "++++++++\n",
      "4. You miss 100 percent of the shots you never take.\n",
      "—Wayne Gretzky\n",
      "++++++++\n",
      "5. Courage is not the absence of fear, but rather the judgement that something else is more important than fear.\n",
      "—Ambrose Redmoon\n",
      "++++++++\n",
      "6. You must be the change you wish to see in the world.\n",
      "—Gandhi\n",
      "++++++++\n",
      "7. When hungry, eat your rice; when tired, close your eyes. Fools may laugh at me, but wise men will know what I mean.\n",
      "—Lin-Chi\n",
      "++++++++\n",
      "8. The third-rate mind is only happy when it is thinking with the majority. The second-rate mind is only happy when it is thinking with the minority. The first-rate mind is only happy when it is thinking.\n",
      "—A. A. Milne\n",
      "++++++++\n",
      "9. To the man who only has a hammer, everything he encounters begins to look like a nail.\n",
      "—Abraham Maslow\n",
      "++++++++\n",
      "10. We are what we repeatedly do; excellence, then, is not an act but a habit.\n",
      "—Aristotle\n",
      "++++++++\n",
      "11. A wise man gets more use from his enemies than a fool from his friends.\n",
      "—Baltasar Gracian\n",
      "++++++++\n",
      "12. Do not seek to follow in the footsteps of the men of old; seek what they sought.\n",
      "—Basho\n",
      "++++++++\n",
      "13. Watch your thoughts; they become words.<br/>Watch your words; they become actions.<br/>Watch your actions; they become habits.<br/>Watch your habits; they become character.<br/>Watch your character; it becomes your destiny.\n",
      "—Lao-Tze\n",
      "++++++++\n",
      "14. Everyone is a genius at least once a year. The real geniuses simply have their bright ideas closer together.\n",
      "—Georg Christoph Lichtenberg\n",
      "++++++++\n",
      "15. What we think, or what we know, or what we believe is, in the end, of little consequence. The only consequence is what we do.\n",
      "—John Ruskin\n",
      "++++++++\n",
      "16. The real voyage of discovery consists not in seeking new lands but seeing with new eyes.\n",
      "—Marcel Proust\n",
      "++++++++\n",
      "17. Work like you don’t need money, love like you’ve never been hurt, and dance like no one’s watching\n",
      "—Unknown Author\n",
      "++++++++\n",
      "18. Try a thing you haven’t done three times. Once, to get over the fear of doing it. Twice, to learn how to do it. And a third time, to figure out whether you like it or not.\n",
      "—Virgil Garnett Thomson\n",
      "++++++++\n",
      "19. Even if you’re on the right track, you’ll get run over if you just sit there.\n",
      "—Will Rogers\n",
      "++++++++\n",
      "20. People often say that motivation doesn’t last. Well, neither does bathing – that’s why we recommend it daily.\n",
      "—Zig Ziglar\n",
      "++++++++\n",
      "21. Before I got married I had six theories about bringing up children; now I have six children and no theories.\n",
      "—John Wilmot\n",
      "++++++++\n",
      "22. What the world needs is more geniuses with humility, there are so few of us left.\n",
      "—Oscar Levant\n",
      "++++++++\n",
      "23. Always forgive your enemies; nothing annoys them so much.\n",
      "—Oscar Wilde\n",
      "++++++++\n",
      "24. I’ve gone into hundreds of [fortune-teller’s parlors], and have been told thousands of things, but nobody ever told me I was a policewoman getting ready to arrest her.\n",
      "—New York City detective\n",
      "++++++++\n",
      "25. When you go into court you are putting your fate into the hands of twelve people who weren’t smart enough to get out of jury duty.\n",
      "—Norm Crosby\n",
      "++++++++\n",
      "26. Those who believe in telekinetics, raise my hand.\n",
      "—Kurt Vonnegut\n",
      "++++++++\n",
      "27. Just the fact that some geniuses were laughed at does not imply that all who are laughed at are geniuses. They laughed at Columbus, they laughed at Fulton, they laughed at the Wright brothers. But they also laughed at Bozo the Clown.\n",
      "—Carl Sagan\n",
      "++++++++\n",
      "28. My pessimism extends to the point of even suspecting the sincerity of the pessimists.\n",
      "—Jean Rostand\n",
      "++++++++\n",
      "29. Sometimes I worry about being a success in a mediocre world.\n",
      "—Lily Tomlin\n",
      "++++++++\n",
      "30. I quit therapy because my analyst was trying to help me behind my back.\n",
      "—Richard Lewis\n",
      "++++++++\n",
      "31. We’ve heard that a million monkeys at a million keyboards could produce the complete works of Shakespeare; now, thanks to the Internet, we know that is not true.\n",
      "—Robert Wilensky\n",
      "++++++++\n",
      "32. If there are no stupid questions, then what kind of questions do stupid people ask? Do they get smart just in time to ask questions?\n",
      "—Scott Adams\n",
      "++++++++\n",
      "33. If the lessons of history teach us anything it is that nobody learns the lessons that history teaches us.\n",
      "—Anon\n",
      "++++++++\n",
      "34. When I was a boy I was told that anybody could become President. Now I’m beginning to believe it.\n",
      "—Clarence Darrow\n",
      "++++++++\n",
      "35. Laughing at our mistakes can lengthen our own life. Laughing at someone else’s can shorten it.\n",
      "—Cullen Hightower\n",
      "++++++++\n",
      "36. There are many who dare not kill themselves for fear of what the neighbors will say.\n",
      "—Cyril Connolly\n",
      "++++++++\n",
      "37. There’s so much comedy on television. Does that cause comedy in the streets?\n",
      "—Dick Cavett\n",
      "++++++++\n",
      "38. All men are frauds. The only difference between them is that some admit it. I myself deny it.\n",
      "—H. L. Mencken\n",
      "++++++++\n",
      "39. I don’t mind what Congress does, as long as they don’t do it in the streets and frighten the horses.\n",
      "—Victor Hugo\n",
      "++++++++\n",
      "40. I took a speed reading course and read ‘War and Peace’ in twenty minutes. It involves Russia.\n",
      "—Woody Allen\n",
      "++++++++\n",
      "41. The person who reads too much and uses his brain too little will fall into lazy habits of thinking.\n",
      "—Albert Einstein\n",
      "++++++++\n",
      "42. Believe those who are seeking the truth. Doubt those who find it.\n",
      "—André Gide\n",
      "++++++++\n",
      "43. It is the mark of an educated mind to be able to entertain a thought without accepting it.\n",
      "—Aristotle\n",
      "++++++++\n",
      "44. I’d rather live with a good question than a bad answer.\n",
      "—Aryeh Frimer\n",
      "++++++++\n",
      "45. We learn something every day, and lots of times it’s that what we learned the day before was wrong.\n",
      "—Bill Vaughan\n",
      "++++++++\n",
      "46. I have made this letter longer than usual because I lack the time to make it shorter.\n",
      "—Blaise Pascal\n",
      "++++++++\n",
      "47. Don’t ever wrestle with a pig. You’ll both get dirty, but the pig will enjoy it.\n",
      "—Cale Yarborough\n",
      "++++++++\n",
      "48. An inventor is simply a fellow who doesn’t take his education too seriously.\n",
      "—Charles F. Kettering\n",
      "++++++++\n",
      "49. Asking a working writer what he thinks about critics is like asking a lamppost how it feels about dogs.\n",
      "—Christopher Hampton\n",
      "++++++++\n",
      "50. Better to write for yourself and have no public, than to write for the public and have no self.\n",
      "—Cyril Connolly\n",
      "++++++++\n",
      "51. Never be afraid to laugh at yourself, after all, you could be missing out on the joke of the century.\n",
      "—Dame Edna Everage\n",
      "++++++++\n",
      "52. I am patient with stupidity but not with those who are proud of it.\n",
      "—Edith Sitwell\n",
      "++++++++\n",
      "53. Normal is getting dressed in clothes that you buy for work and driving through traffic in a car that you are still paying for – in order to get to the job you need to pay for the clothes and the car, and the house you leave vacant all day so you can afford to live in it.\n",
      "—Ellen Goodman\n",
      "++++++++\n",
      "54. The cure for boredom is curiosity. There is no cure for curiosity.\n",
      "—Ellen Parr\n",
      "++++++++\n",
      "55. Advice is what we ask for when we already know the answer but wish we didn’t.\n",
      "—Erica Jong\n",
      "++++++++\n",
      "56. Some people like my advice so much that they frame it upon the wall instead of using it.\n",
      "—Gordon R. Dickson\n",
      "++++++++\n",
      "57. The trouble with the rat race is that even if you win, you’re still a rat.\n",
      "—Lily Tomlin\n",
      "++++++++\n",
      "58. Never ascribe to malice, that which can be explained by incompetence.\n",
      "—Napoleon (Hanlon’s Razor)\n",
      "++++++++\n",
      "59. Imagination was given to man to compensate him for what he is not, and a sense of humor was provided to console him for what he is.\n",
      "—Oscar Wilde\n",
      "++++++++\n",
      "60. When a person can no longer laugh at himself, it is time for others to laugh at him.\n",
      "—Thomas Szasz\n",
      "++++++++\n"
     ]
    }
   ],
   "source": [
    "# Finding the pattern in the website that you'll be using is the most challenging part.\n",
    "\n",
    "from bs4 import BeautifulSoup\n",
    "import urllib\n",
    "\n",
    "url = 'https://litemind.com/best-famous-quotes'\n",
    "\n",
    "html = urllib.urlopen(url).read() # Gives you an html string that's hard to parse. BS4 allows you read it more easily.\n",
    "soup = BeautifulSoup(html, 'html.parser') # First argument is what you're passing. The second is how you're going to read it\n",
    "\n",
    "quotes = soup.findAll('div', {'class':'wp_quotepage'})\n",
    "for quote in quotes:\n",
    "    print quote.find('div', {'class':'wp_quotepage_quote'}).renderContents()#Strips html tags\n",
    "    print quote.find('div', {'class':'wp_quotepage_author'}).renderContents()\n",
    "    print '++++++++'"
   ]
  },
  {
   "cell_type": "code",
   "execution_count": null,
   "metadata": {
    "collapsed": true
   },
   "outputs": [],
   "source": []
  }
 ],
 "metadata": {
  "kernelspec": {
   "display_name": "Python 2",
   "language": "python",
   "name": "python2"
  },
  "language_info": {
   "codemirror_mode": {
    "name": "ipython",
    "version": 2
   },
   "file_extension": ".py",
   "mimetype": "text/x-python",
   "name": "python",
   "nbconvert_exporter": "python",
   "pygments_lexer": "ipython2",
   "version": "2.7.11"
  }
 },
 "nbformat": 4,
 "nbformat_minor": 0
}
