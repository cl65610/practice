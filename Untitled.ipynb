{
 "cells": [
  {
   "cell_type": "code",
   "execution_count": null,
   "metadata": {
    "collapsed": false
   },
   "outputs": [],
   "source": [
    "# Download the data, save to a file called \"housing.data\"\n",
    "import urllib\n",
    "import pandas as pd \n",
    "import seaborn as sns\n",
    "import matplotlib.pyplot as plt\n",
    "data_url = \"https://archive.ics.uci.edu/ml/machine-learning-databases/housing/housing.data\"\n",
    "urllib.urlretrieve (data_url, \"housing.data\")\n",
    "# Column names are not included in the data, so a list is created\n",
    "# in order to add them in later.\n",
    "names = [\"CRIM\", \"ZN\", \"INDUS\", \"CHAS\", \"NOX\", \"RM\", \"AGE\",\n",
    "         \"DIS\", \"RAD\", \"TAX\", \"PTRATIO\", \"B\", \"LSTAT\", \"MEDV\"]\n",
    "\n",
    "df = pd.read_csv('housing.data', header=None, names=names, delim_whitespace=True)\n",
    "#Look at the first five rows, make sure that the data got imported correctly\n",
    "df.head()\n",
    "# The shape function shows us what the data looks like. This particular data frame\n",
    "# has 506 rows and 14 columsn\n",
    "df.shape\n",
    "#This shows what the summary statistics are for these 13 categories.\n",
    "df.describe()\n",
    "#Let's start with a simple distribution of the Median Home Values, so that we\n",
    "# can get a sense of what we're working with.\n",
    "sns.distplot(df.MEDV,bins=50,kde=True, axlabel='Median Home Value Distribution', rug=True)\n",
    "# plt.show()\n",
    "#This is utterly useless.\n",
    "%matplotlib inline\n",
    "sns.lmplot(x='MEDV', y='NOX', hue='CHAS', data=df)\n",
    "\n",
    "# for col in df.columns:\n",
    "#     sns.jointplot(x='MEDV', y=col, data=df)\n",
    "#     plt.show()\n",
    "\n",
    "    \n",
    "\n"
   ]
  },
  {
   "cell_type": "code",
   "execution_count": null,
   "metadata": {
    "collapsed": true
   },
   "outputs": [],
   "source": []
  }
 ],
 "metadata": {
  "kernelspec": {
   "display_name": "Python 2",
   "language": "python",
   "name": "python2"
  },
  "language_info": {
   "codemirror_mode": {
    "name": "ipython",
    "version": 2
   },
   "file_extension": ".py",
   "mimetype": "text/x-python",
   "name": "python",
   "nbconvert_exporter": "python",
   "pygments_lexer": "ipython2",
   "version": "2.7.11"
  }
 },
 "nbformat": 4,
 "nbformat_minor": 0
}
